{
 "cells": [
  {
   "cell_type": "markdown",
   "id": "1e05f3ab",
   "metadata": {},
   "source": [
    "### Data Source\n",
    "In this exercise we shall be using [The National Health and Nutrition Examination Surveys](https://wwwn.cdc.gov/nchs/nhanes/continuousnhanes/overview.aspx?BeginYear=2015) (NHANES) dataset specifically the [nhanes 2015-2016](https://raw.githubusercontent.com/UMstatspy/UMStatsPy/master/NHANES/merged/nhanes_2015_2016.csv). Alternatively, the dataset can also be found at [nhanes 2015-2016](https://github.com/rashida048/Datasets/blob/master/nhanes_2015_2016.csv).\n",
    "\n",
    "**Description of the variables can be found at [Data Processing and Editing](https://wwwn.cdc.gov/nchs/nhanes/2015-2016/DEMO_I.htm)**.\n",
    "\n",
    "* **RIDAGEYR**: Age in years, at the time of the screening interview\n",
    "* **RIDRETH1**: Race/Hispanic origin (1 = Mexican American, 3 = Non-Hispanic White, 4 = Non-Hispanic Black)\n",
    "* **RIAGENDR**: Gender (1 = Male, 2 = Female)\n",
    "* **SMQ020**: Smoker (1 = YES, 2 = NO)\n",
    "* **BMXBMI**: Body Mass Index\n",
    "* **BPXSY**(1 and 2): = Systolic Blood Pressure\n",
    "\n",
    "#### Some Python Packages we shall be using"
   ]
  },
  {
   "cell_type": "code",
   "execution_count": 1,
   "id": "06f9cc64",
   "metadata": {},
   "outputs": [],
   "source": [
    "import numpy as np\n",
    "import pandas as pd\n",
    "from matplotlib import pyplot as plt\n",
    "import seaborn as sns\n",
    "import scipy.stats as stats\n",
    "from statsmodels.formula.api import ols\n",
    "import statsmodels.api as sm\n",
    "from statsmodels.distributions.empirical_distribution import ECDF\n",
    "from statsmodels.stats.oneway import effectsize_oneway\n",
    "import scikit_posthocs as sp\n",
    "import os\n",
    "from collections import Counter\n",
    "%matplotlib inline\n",
    "os.chdir('./resources/')"
   ]
  },
  {
   "cell_type": "markdown",
   "id": "13d57d9f",
   "metadata": {},
   "source": [
    "### Research Question 4\n",
    "Considering **Mexican-American adults ages 18+** living in the United States in 2015-2016, did males have a significantly higher mean Body Mass Index (BMI) than females?\n",
    "\n",
    "These measures are considered **independent** because they are different measurements (data) of the same variable taken from **different** object or group. This is therefore a test for **Difference in Population Means for Independent Groups**.\n",
    "\n",
    "#### Information from Research Question\n",
    "* Population: Mexican-American adults (ages 18+) living in the United States\n",
    "* Parameter of Interest: Difference in mean BMI ($\\mu_1 - \\mu_2$) in $kg/m^2$\n",
    "* Significance Level = 5%\n",
    "\n",
    "#### State the null hypothesis and the alternative hypothesis\n",
    "* Null Hypothesis H0: There is no difference between male and female mean BMI for Mexican-American adults (ages 18+) living in the United States ($H_0: \\mu_1 = \\mu_2$)\n",
    "* Alternative Hypothesis H1: There is a significant difference between male and female mean BMI for Mexican-American adults (ages 18+) living in the United States ($H_1: \\mu_1 \\ne \\mu_2$)\n",
    "\n",
    "#### Hypothesis Test \n",
    "Perform a two samples **t-test** for **independent groups** for the difference in mean BMI between males and females. This will be a **two-tailed** or **non-directional** test since we are interested in the **difference** between both samples. \n",
    "\n",
    "#### Load the data"
   ]
  },
  {
   "cell_type": "code",
   "execution_count": 2,
   "id": "ed8a5c5f",
   "metadata": {},
   "outputs": [
    {
     "name": "stdout",
     "output_type": "stream",
     "text": [
      "Size of dataset = (5735, 28)\n"
     ]
    },
    {
     "data": {
      "text/html": [
       "<div>\n",
       "<style scoped>\n",
       "    .dataframe tbody tr th:only-of-type {\n",
       "        vertical-align: middle;\n",
       "    }\n",
       "\n",
       "    .dataframe tbody tr th {\n",
       "        vertical-align: top;\n",
       "    }\n",
       "\n",
       "    .dataframe thead th {\n",
       "        text-align: right;\n",
       "    }\n",
       "</style>\n",
       "<table border=\"1\" class=\"dataframe\">\n",
       "  <thead>\n",
       "    <tr style=\"text-align: right;\">\n",
       "      <th></th>\n",
       "      <th>SEQN</th>\n",
       "      <th>ALQ101</th>\n",
       "      <th>ALQ110</th>\n",
       "      <th>ALQ130</th>\n",
       "      <th>SMQ020</th>\n",
       "      <th>RIAGENDR</th>\n",
       "      <th>RIDAGEYR</th>\n",
       "      <th>RIDRETH1</th>\n",
       "      <th>DMDCITZN</th>\n",
       "      <th>DMDEDUC2</th>\n",
       "      <th>...</th>\n",
       "      <th>BPXSY2</th>\n",
       "      <th>BPXDI2</th>\n",
       "      <th>BMXWT</th>\n",
       "      <th>BMXHT</th>\n",
       "      <th>BMXBMI</th>\n",
       "      <th>BMXLEG</th>\n",
       "      <th>BMXARML</th>\n",
       "      <th>BMXARMC</th>\n",
       "      <th>BMXWAIST</th>\n",
       "      <th>HIQ210</th>\n",
       "    </tr>\n",
       "  </thead>\n",
       "  <tbody>\n",
       "    <tr>\n",
       "      <th>0</th>\n",
       "      <td>83732</td>\n",
       "      <td>1.0</td>\n",
       "      <td>NaN</td>\n",
       "      <td>1.0</td>\n",
       "      <td>1</td>\n",
       "      <td>1</td>\n",
       "      <td>62</td>\n",
       "      <td>3</td>\n",
       "      <td>1.0</td>\n",
       "      <td>5.0</td>\n",
       "      <td>...</td>\n",
       "      <td>124.0</td>\n",
       "      <td>64.0</td>\n",
       "      <td>94.8</td>\n",
       "      <td>184.5</td>\n",
       "      <td>27.8</td>\n",
       "      <td>43.3</td>\n",
       "      <td>43.6</td>\n",
       "      <td>35.9</td>\n",
       "      <td>101.1</td>\n",
       "      <td>2.0</td>\n",
       "    </tr>\n",
       "    <tr>\n",
       "      <th>1</th>\n",
       "      <td>83733</td>\n",
       "      <td>1.0</td>\n",
       "      <td>NaN</td>\n",
       "      <td>6.0</td>\n",
       "      <td>1</td>\n",
       "      <td>1</td>\n",
       "      <td>53</td>\n",
       "      <td>3</td>\n",
       "      <td>2.0</td>\n",
       "      <td>3.0</td>\n",
       "      <td>...</td>\n",
       "      <td>140.0</td>\n",
       "      <td>88.0</td>\n",
       "      <td>90.4</td>\n",
       "      <td>171.4</td>\n",
       "      <td>30.8</td>\n",
       "      <td>38.0</td>\n",
       "      <td>40.0</td>\n",
       "      <td>33.2</td>\n",
       "      <td>107.9</td>\n",
       "      <td>NaN</td>\n",
       "    </tr>\n",
       "    <tr>\n",
       "      <th>2</th>\n",
       "      <td>83734</td>\n",
       "      <td>1.0</td>\n",
       "      <td>NaN</td>\n",
       "      <td>NaN</td>\n",
       "      <td>1</td>\n",
       "      <td>1</td>\n",
       "      <td>78</td>\n",
       "      <td>3</td>\n",
       "      <td>1.0</td>\n",
       "      <td>3.0</td>\n",
       "      <td>...</td>\n",
       "      <td>132.0</td>\n",
       "      <td>44.0</td>\n",
       "      <td>83.4</td>\n",
       "      <td>170.1</td>\n",
       "      <td>28.8</td>\n",
       "      <td>35.6</td>\n",
       "      <td>37.0</td>\n",
       "      <td>31.0</td>\n",
       "      <td>116.5</td>\n",
       "      <td>2.0</td>\n",
       "    </tr>\n",
       "    <tr>\n",
       "      <th>3</th>\n",
       "      <td>83735</td>\n",
       "      <td>2.0</td>\n",
       "      <td>1.0</td>\n",
       "      <td>1.0</td>\n",
       "      <td>2</td>\n",
       "      <td>2</td>\n",
       "      <td>56</td>\n",
       "      <td>3</td>\n",
       "      <td>1.0</td>\n",
       "      <td>5.0</td>\n",
       "      <td>...</td>\n",
       "      <td>134.0</td>\n",
       "      <td>68.0</td>\n",
       "      <td>109.8</td>\n",
       "      <td>160.9</td>\n",
       "      <td>42.4</td>\n",
       "      <td>38.5</td>\n",
       "      <td>37.7</td>\n",
       "      <td>38.3</td>\n",
       "      <td>110.1</td>\n",
       "      <td>2.0</td>\n",
       "    </tr>\n",
       "    <tr>\n",
       "      <th>4</th>\n",
       "      <td>83736</td>\n",
       "      <td>2.0</td>\n",
       "      <td>1.0</td>\n",
       "      <td>1.0</td>\n",
       "      <td>2</td>\n",
       "      <td>2</td>\n",
       "      <td>42</td>\n",
       "      <td>4</td>\n",
       "      <td>1.0</td>\n",
       "      <td>4.0</td>\n",
       "      <td>...</td>\n",
       "      <td>114.0</td>\n",
       "      <td>54.0</td>\n",
       "      <td>55.2</td>\n",
       "      <td>164.9</td>\n",
       "      <td>20.3</td>\n",
       "      <td>37.4</td>\n",
       "      <td>36.0</td>\n",
       "      <td>27.2</td>\n",
       "      <td>80.4</td>\n",
       "      <td>2.0</td>\n",
       "    </tr>\n",
       "  </tbody>\n",
       "</table>\n",
       "<p>5 rows × 28 columns</p>\n",
       "</div>"
      ],
      "text/plain": [
       "    SEQN  ALQ101  ALQ110  ALQ130  SMQ020  RIAGENDR  RIDAGEYR  RIDRETH1  \\\n",
       "0  83732     1.0     NaN     1.0       1         1        62         3   \n",
       "1  83733     1.0     NaN     6.0       1         1        53         3   \n",
       "2  83734     1.0     NaN     NaN       1         1        78         3   \n",
       "3  83735     2.0     1.0     1.0       2         2        56         3   \n",
       "4  83736     2.0     1.0     1.0       2         2        42         4   \n",
       "\n",
       "   DMDCITZN  DMDEDUC2  ...  BPXSY2  BPXDI2  BMXWT  BMXHT  BMXBMI  BMXLEG  \\\n",
       "0       1.0       5.0  ...   124.0    64.0   94.8  184.5    27.8    43.3   \n",
       "1       2.0       3.0  ...   140.0    88.0   90.4  171.4    30.8    38.0   \n",
       "2       1.0       3.0  ...   132.0    44.0   83.4  170.1    28.8    35.6   \n",
       "3       1.0       5.0  ...   134.0    68.0  109.8  160.9    42.4    38.5   \n",
       "4       1.0       4.0  ...   114.0    54.0   55.2  164.9    20.3    37.4   \n",
       "\n",
       "   BMXARML  BMXARMC  BMXWAIST  HIQ210  \n",
       "0     43.6     35.9     101.1     2.0  \n",
       "1     40.0     33.2     107.9     NaN  \n",
       "2     37.0     31.0     116.5     2.0  \n",
       "3     37.7     38.3     110.1     2.0  \n",
       "4     36.0     27.2      80.4     2.0  \n",
       "\n",
       "[5 rows x 28 columns]"
      ]
     },
     "execution_count": 2,
     "metadata": {},
     "output_type": "execute_result"
    }
   ],
   "source": [
    "df = pd.read_csv('nhanes_2015_2016.csv')\n",
    "print(f'Size of dataset = {df.shape}')\n",
    "df.head()"
   ]
  },
  {
   "cell_type": "markdown",
   "id": "2ffc45f0",
   "metadata": {},
   "source": [
    "#### Let's filter the required data\n",
    "* Our variable of interest is **BMXBMI**\n",
    "* Popupation (Ages 18+ and 'RIDRETH1' = 1 for Mexican-American)"
   ]
  },
  {
   "cell_type": "code",
   "execution_count": 3,
   "id": "1364c82d",
   "metadata": {},
   "outputs": [
    {
     "data": {
      "text/html": [
       "<div>\n",
       "<style scoped>\n",
       "    .dataframe tbody tr th:only-of-type {\n",
       "        vertical-align: middle;\n",
       "    }\n",
       "\n",
       "    .dataframe tbody tr th {\n",
       "        vertical-align: top;\n",
       "    }\n",
       "\n",
       "    .dataframe thead th {\n",
       "        text-align: right;\n",
       "    }\n",
       "</style>\n",
       "<table border=\"1\" class=\"dataframe\">\n",
       "  <thead>\n",
       "    <tr style=\"text-align: right;\">\n",
       "      <th></th>\n",
       "      <th>RIAGENDR</th>\n",
       "      <th>BMXBMI</th>\n",
       "    </tr>\n",
       "  </thead>\n",
       "  <tbody>\n",
       "    <tr>\n",
       "      <th>5</th>\n",
       "      <td>2</td>\n",
       "      <td>28.6</td>\n",
       "    </tr>\n",
       "    <tr>\n",
       "      <th>7</th>\n",
       "      <td>2</td>\n",
       "      <td>28.2</td>\n",
       "    </tr>\n",
       "    <tr>\n",
       "      <th>16</th>\n",
       "      <td>2</td>\n",
       "      <td>32.8</td>\n",
       "    </tr>\n",
       "    <tr>\n",
       "      <th>23</th>\n",
       "      <td>2</td>\n",
       "      <td>22.8</td>\n",
       "    </tr>\n",
       "    <tr>\n",
       "      <th>29</th>\n",
       "      <td>2</td>\n",
       "      <td>33.5</td>\n",
       "    </tr>\n",
       "  </tbody>\n",
       "</table>\n",
       "</div>"
      ],
      "text/plain": [
       "    RIAGENDR  BMXBMI\n",
       "5          2    28.6\n",
       "7          2    28.2\n",
       "16         2    32.8\n",
       "23         2    22.8\n",
       "29         2    33.5"
      ]
     },
     "execution_count": 3,
     "metadata": {},
     "output_type": "execute_result"
    }
   ],
   "source": [
    "df1 = df.copy()\n",
    "df_bmi = df1[(df1['RIDAGEYR'] >= 18) & (df1['RIDRETH1'] == 1)][['RIAGENDR', 'BMXBMI']]\n",
    "df_bmi.head()"
   ]
  },
  {
   "cell_type": "markdown",
   "id": "623d1a00",
   "metadata": {},
   "source": [
    "**Let's check for missing values**"
   ]
  },
  {
   "cell_type": "code",
   "execution_count": 4,
   "id": "340085d2",
   "metadata": {},
   "outputs": [
    {
     "name": "stdout",
     "output_type": "stream",
     "text": [
      "BMXBMI    18\n",
      "dtype: int64\n"
     ]
    }
   ],
   "source": [
    "z = df_bmi.isnull().sum()\n",
    "print(z[z > 0])"
   ]
  },
  {
   "cell_type": "markdown",
   "id": "3800d8a4",
   "metadata": {},
   "source": [
    "**We have `18`observations with missing data. We can safely drop these observation without hurting our data.**"
   ]
  },
  {
   "cell_type": "code",
   "execution_count": 5,
   "id": "3912e27a",
   "metadata": {},
   "outputs": [
    {
     "name": "stdout",
     "output_type": "stream",
     "text": [
      "Series([], dtype: int64)\n"
     ]
    }
   ],
   "source": [
    "df_bmi = df_bmi.dropna()\n",
    "z = df_bmi.isnull().sum()\n",
    "print(z[z > 0])"
   ]
  },
  {
   "cell_type": "code",
   "execution_count": 8,
   "id": "f535afb1",
   "metadata": {},
   "outputs": [],
   "source": [
    "bmi_male = df_bmi[df_bmi['RIAGENDR'] == 1]['BMXBMI']\n",
    "bmi_female = df_bmi[df_bmi['RIAGENDR'] == 2]['BMXBMI']"
   ]
  },
  {
   "cell_type": "code",
   "execution_count": 9,
   "id": "f746783b",
   "metadata": {},
   "outputs": [
    {
     "name": "stdout",
     "output_type": "stream",
     "text": [
      "count    464.000000\n",
      "mean      30.098276\n",
      "std        6.483573\n",
      "min       16.200000\n",
      "25%       25.975000\n",
      "50%       29.200000\n",
      "75%       33.000000\n",
      "max       58.800000\n",
      "Name: BMXBMI, dtype: float64\n"
     ]
    }
   ],
   "source": [
    "print(bmi_male.describe())"
   ]
  },
  {
   "cell_type": "code",
   "execution_count": 10,
   "id": "87a97f49",
   "metadata": {},
   "outputs": [
    {
     "name": "stdout",
     "output_type": "stream",
     "text": [
      "count    536.000000\n",
      "mean      31.716978\n",
      "std        7.530061\n",
      "min       16.200000\n",
      "25%       26.975000\n",
      "50%       30.150000\n",
      "75%       35.300000\n",
      "max       63.900000\n",
      "Name: BMXBMI, dtype: float64\n"
     ]
    }
   ],
   "source": [
    "print(bmi_female.describe())"
   ]
  },
  {
   "cell_type": "markdown",
   "id": "39051561",
   "metadata": {},
   "source": [
    "**Plot the groups and check that test assumptions are met**"
   ]
  },
  {
   "cell_type": "code",
   "execution_count": 11,
   "id": "f545efed",
   "metadata": {},
   "outputs": [
    {
     "data": {
      "image/png": "[encoded data removed]",
      "text/plain": [
       "<Figure size 1152x720 with 6 Axes>"
      ]
     },
     "metadata": {
      "needs_background": "light"
     },
     "output_type": "display_data"
    }
   ],
   "source": [
    "fig, axes = plt.subplots(2, 3, figsize = (16, 10), sharex = False)\n",
    "sns.histplot(bmi_female, kde = True, ax = axes[0,0])\n",
    "axes[0,0].title.set_text('Historgram of Female BMI')\n",
    "stats.probplot(bmi_female, dist = 'norm', plot = axes[0,1])              \n",
    "axes[0,1].title.set_text('QQ plot of Female BMI')\n",
    "sns.boxplot(x = bmi_female, ax = axes[0,2])\n",
    "axes[0,2].title.set_text('Boxplot of Female BMI')\n",
    "\n",
    "sns.histplot(bmi_male, kde = True, ax = axes[1,0])\n",
    "axes[1,0].title.set_text('Historgram of Male BMI')\n",
    "stats.probplot(bmi_male, dist = 'norm', plot = axes[1,1])              \n",
    "axes[1,1].title.set_text('QQ plot of male BMI')\n",
    "sns.boxplot(x = bmi_male, ax = axes[1,2])\n",
    "axes[1,2].title.set_text('Boxplot of male BMI')\n",
    "\n",
    "plt.show()"
   ]
  },
  {
   "cell_type": "markdown",
   "id": "65b62ccd",
   "metadata": {},
   "source": [
    "From the various plots we can concluded that with sufficient data and based on the **Central Limit Theorem (CLT)** that the sample is coming from a population that is normally distributed. We can go ahead with our analysis...\n",
    "### Computing the t-Test Statistic (one measure taken from two separate groups)\n",
    "The formula for computing the test statistic or **t value** for the **t-test for independent means** for two groups or distributions $x_1$ and $x_2$ is:\n",
    "\n",
    "$t = \\frac{\\bar{x_1} - \\bar{x_2}}{\\sqrt{\\left[\\frac{(n_1 - 1)s_1^2 + (n_2 - 1)s_2^2}{n_1 + n_2 - 2}\\right]\\left[\\frac{n_1 + n_2}{n_1n_2} \\right]}}$    where\n",
    "\n",
    "* $\\bar{x_1}$ = is the mean for Group 1\n",
    "* $\\bar{x_2}$ = is the mean for Group 2\n",
    "* $s_1^2$ = is the variance for Group 1\n",
    "* $s_2^2$ = is the variance for Group 2\n",
    "* $n_1$ = is the number of participants in Group 1\n",
    "* $n_2$ = is the number of participants in Group 2\n",
    "\n",
    "#### Helper function to compute t-value"
   ]
  },
  {
   "cell_type": "code",
   "execution_count": 12,
   "id": "260324c6",
   "metadata": {},
   "outputs": [],
   "source": [
    "def t_test(x1, x2):\n",
    "    x1 = np.array(x1, dtype = np.float64)      # dtype = np.float64 is to address a Runtime Error\n",
    "    x2 = np.array(x2, dtype = np.float64)\n",
    "    n1 = len(x1)\n",
    "    n2 = len(x2)\n",
    "    s1 = np.var(x1)\n",
    "    s2 = np.var(x2)\n",
    "    x_bar1 = np.mean(x1)\n",
    "    x_bar2 = np.mean(x2)\n",
    "    return (x_bar1 - x_bar2) / np.sqrt(((((n1 - 1) * s1) + ((n2 - 1) * s2)) / (n1 + n2 - 2)) * ((n1 + n2) / (n1 * n2)))"
   ]
  },
  {
   "cell_type": "markdown",
   "id": "2e3e2854",
   "metadata": {},
   "source": [
    "**Compute the test statistic and critical-t value for decision.**"
   ]
  },
  {
   "cell_type": "code",
   "execution_count": 21,
   "id": "c92dd7af",
   "metadata": {},
   "outputs": [
    {
     "name": "stdout",
     "output_type": "stream",
     "text": [
      "Mean Difference between male and female BMI = -1.62\n"
     ]
    }
   ],
   "source": [
    "print(f'Mean Difference between male and female BMI = {round((bmi_male.mean() - bmi_female.mean()), 2)}')"
   ]
  },
  {
   "cell_type": "code",
   "execution_count": 16,
   "id": "b680d0a1",
   "metadata": {},
   "outputs": [
    {
     "name": "stdout",
     "output_type": "stream",
     "text": [
      "test statistic(t) = -3.617\n",
      "critical-t = 1.9623\n",
      "\n",
      "Significant outcome! Reject the null hypothesis which states that:\n",
      "\"There is no difference between male and female mean BMI for Mexican-American adults (ages 18+) living in the United States in 2015-2016.\"\n",
      "\n",
      "Accept the alternative or research hypothesis which states that:\n",
      "\"There is a significant difference between male and female mean BMI for Mexican-American adults (ages 18+) living in the United States in 2015-2016.\"\n"
     ]
    }
   ],
   "source": [
    "H0 = '\"There is no difference between male and female mean BMI for Mexican-American adults (ages 18+) \\\n",
    "living in the United States in 2015-2016.\"'\n",
    "\n",
    "H1 = '\"There is a significant difference between male and female mean BMI for Mexican-American adults (ages 18+) \\\n",
    "living in the United States in 2015-2016.\"'\n",
    "\n",
    "t_value = t_test(bmi_male, bmi_female)\n",
    "print(f'test statistic(t) = {round(t_value, 3)}')\n",
    "\n",
    "n1 = len(bmi_female)\n",
    "n2 = len(bmi_male)\n",
    "dof = (n1 - 1) + (n2 - 1)\n",
    "\n",
    "alpha = 0.05\n",
    "prob = 1 - alpha / 2                # two-tail test\n",
    "critical_t = stats.t.ppf(prob, dof)           \n",
    "print (f'critical-t = {round(critical_t, 4)}\\n')\n",
    "\n",
    "if abs(t_value) >= critical_t:\n",
    "    print(f'Significant outcome! Reject the null hypothesis which states that:\\n{H0}\\n')\n",
    "    print(f'Accept the alternative or research hypothesis which states that:\\n{H1}')\n",
    "else:\n",
    "    print(f'Not significant outcome! Fail to reject the null hypothesis which states that:\\n{H0}')"
   ]
  },
  {
   "cell_type": "markdown",
   "id": "9886a801",
   "metadata": {},
   "source": [
    "#### Approach 2: Compute p-value for decision\n",
    "We will use scipy's **`stats.ttest_ind`** to compute the **test statistic** and corresponding **p-value** for independent groups."
   ]
  },
  {
   "cell_type": "code",
   "execution_count": 17,
   "id": "7f92f580",
   "metadata": {},
   "outputs": [
    {
     "name": "stdout",
     "output_type": "stream",
     "text": [
      "test statistic = -3.614\n",
      "pvalue = 0.0\n",
      "\n",
      "Significant outcome! Reject the null hypothesis which states that:\n",
      "\"There is no difference between male and female mean BMI for Mexican-American adults (ages 18+) living in the United States in 2015-2016.\"\n",
      "\n",
      "Accept the alternative or research hypothesis which states that:\n",
      "\"There is a significant difference between male and female mean BMI for Mexican-American adults (ages 18+) living in the United States in 2015-2016.\"\n"
     ]
    }
   ],
   "source": [
    "test_stat, pvalue = stats.ttest_ind(bmi_male, bmi_female)\n",
    "\n",
    "print(f'test statistic = {round(test_stat, 3)}')\n",
    "print(f'pvalue = {round(pvalue, 3)}\\n')\n",
    "\n",
    "if pvalue <= alpha:\n",
    "    print(f'Significant outcome! Reject the null hypothesis which states that:\\n{H0}\\n')\n",
    "    print(f'Accept the alternative or research hypothesis which states that:\\n{H1}')\n",
    "else:\n",
    "    print(f'Not significant outcome! Fail to reject the null hypothesis which states that:\\n{H0}')"
   ]
  },
  {
   "cell_type": "markdown",
   "id": "6775be2a",
   "metadata": {},
   "source": [
    "### Effect Size\n",
    "**Effect size** is a measure of **how different two groups are from one another**. For example it’s a measure of the magnitude of the treatment given to one group that makes it significantly different from the other group. **Effect Size** would tell whether **statistically significant difference is also meaningful or not**.\n",
    "##### Effect Size using `pooled variance`\n",
    "The **pooled standard deviation is sort of an average of the standard deviation from Group 1 and the standard deviation from Group 2**.\n",
    "\n",
    "$es = \\frac{\\bar{x_1} - \\bar{x_2}}{\\sqrt{\\frac{\\sigma_1^2 + \\sigma_2^2}{2}}}$    where\n",
    "\n",
    "* $\\bar{x_1}$ = is the mean for Group 1\n",
    "* $\\bar{x_2}$ = is the mean for Group 2\n",
    "* $\\sigma_1^2$ = is the variance for Group 1\n",
    "* $\\sigma_2^2$ = is the variance for Group 2"
   ]
  },
  {
   "cell_type": "code",
   "execution_count": 18,
   "id": "c29cee96",
   "metadata": {},
   "outputs": [],
   "source": [
    "def effectSize(m1, m2, std1, std2):\n",
    "    return (m1 - m2) / np.sqrt((std1 **2 + std2 ** 2) / 2)"
   ]
  },
  {
   "cell_type": "code",
   "execution_count": 19,
   "id": "7de48800",
   "metadata": {},
   "outputs": [
    {
     "name": "stdout",
     "output_type": "stream",
     "text": [
      "Effect Size = 0.23\n"
     ]
    }
   ],
   "source": [
    "m1 = np.mean(bmi_male)\n",
    "m2 = np.mean(bmi_female)\n",
    "std1 = np.std(bmi_male)\n",
    "std2 = np.std(bmi_female)\n",
    "\n",
    "d = effectSize(m1, m2, std1, std2)\n",
    "print(f'Effect Size = {abs(round(d, 2))}')"
   ]
  },
  {
   "cell_type": "markdown",
   "id": "7a253d86",
   "metadata": {},
   "source": [
    "An effect size of **0.23** is categorized as **medium**. In addition to the **difference between the two means being statistically significant (pvalue < alpha) or test statistic being more extreme to the critical value**, one could conclude that the **difference also is meaningful** since the effect size is not negligible.\n",
    "\n",
    "#### Confidence Interval\n",
    "The **confidence interval** is calculated using the **student-t distribution** as follows:\n",
    "\n",
    "$CI = \\bar{x}_1-\\bar{x}_2 \\pm t_{critical}\\sqrt{\\frac{(n_1 - 1)s_1^2 +(n_2-1)s_2^2}{n_1 + n_2-2}}\\sqrt{\\frac{1}{n_1}+\\frac{1}{n_2}}$\n",
    "\n",
    "* $\\bar{x}_1$, $\\bar{x}_2$ = sample means\n",
    "* n1, n2 = sample sizes\n",
    "* $t_{critical}$ = critical t-value from the t-distribution"
   ]
  },
  {
   "cell_type": "code",
   "execution_count": 20,
   "id": "b3853481",
   "metadata": {},
   "outputs": [
    {
     "name": "stdout",
     "output_type": "stream",
     "text": [
      "Point estimate(x_bar1 - x_bar2) = -1.62\n",
      "Critical-t = 1.965\n",
      "Margin of Error = 0.88\n",
      "Confidence Interval = (-2.5, -0.74)\n"
     ]
    }
   ],
   "source": [
    "x_bar1 = bmi_male.mean()\n",
    "x_bar2 = bmi_female.mean()\n",
    "\n",
    "s1 = bmi_male.std()\n",
    "s2 = bmi_female.std()\n",
    "n1 = len(bmi_male)\n",
    "n2 = len(bmi_female)\n",
    "\n",
    "alpha = 0.05\n",
    "prob = 1 - alpha / 2\n",
    "\n",
    "dof = np.min([(n1 - 1), (n2 - 1)])\n",
    "\n",
    "standard_error = np.sqrt(((n1 - 1) * (s1 ** 2) + (n2 - 1) * (s2 ** 2))/(n1 + n2 - 2)) * np.sqrt(1/n1 + 1/n2)\n",
    "\n",
    "critical_t = stats.t.ppf(prob, dof)\n",
    "margin_of_error = critical_t * standard_error\n",
    "\n",
    "# Calculate the lower and upper bound of the confidence interval\n",
    "ci_lower = (x_bar1 - x_bar2) - margin_of_error\n",
    "ci_upper = (x_bar1 - x_bar2) + margin_of_error\n",
    "\n",
    "print(f'Point estimate(x_bar1 - x_bar2) = {round((x_bar1 - x_bar2), 2)}')\n",
    "print(f'Critical-t = {round(critical_t, 3)}')\n",
    "print(f'Margin of Error = {round(margin_of_error, 2)}')\n",
    "print(f'Confidence Interval = {(round(ci_lower, 2), round(ci_upper, 2))}')"
   ]
  },
  {
   "cell_type": "markdown",
   "id": "e423ef45",
   "metadata": {},
   "source": [
    "#### Interpretation of the results\n",
    "With **95%** confidence, the **difference in mean Body Mass Index** between males and females for all Mexican-American adults (ages 18+) in the U.S is *estimated* to be between **-2.5 kg/$m^2$** and **-0.74 kg/$m^2$**. This means if this procedure were repeated over and over, each time computing the **95%** confidence interval estimate, we would expect **95% of those resulting `intervals` to contain the difference in population mean BMI**.\n",
    "\n",
    "Our **best estimate ($\\bar{x}_1-\\bar{x}_2$) = -1.62 kg/$m^2$**  of the population parameter **lies in this range**.\n",
    "\n",
    "### Research Question 5\n",
    "Considering **Mexican-American adults (ages 18+)** living in the U.S in 2015-2016, did the **proportions of males and females who smoked vary significantly**?\n",
    "\n",
    "#### Information from Research Question\n",
    "* Population: Mexican-American adults (ages 18+) living in the United States\n",
    "* Parameter of Interest: Proportion of smokers and non-smokers between male and female \n",
    "* Significance Level = 5%\n",
    "\n",
    "#### State the null hypothesis and the alternative hypothesis\n",
    "* Null Hypothesis H0: There was no difference in the frequency of occurrences (proportions) between Mexican-American male and female smokers (ages 18+) living in the U.S in 2015-2016. ($H_0: p_1 = p_2$)\n",
    "* Alternative Hypothesis H1: There is a significant difference in the frequency of occurrences (proportions) between Mexican-American male and female smokers (ages 18+) living in the U.S in 2015-2016. ($H_0: p_1 \\ne p_2$)\n",
    "\n",
    "#### Hypothesis Test \n",
    "Perform a **chi-square test** to test for the difference in the two population proportions. \n",
    "\n",
    "#### Get the data\n",
    "The variable or column in the **NHANES dataset** that provides this information is **SMQ020**."
   ]
  },
  {
   "cell_type": "code",
   "execution_count": 29,
   "id": "d4b8c59b",
   "metadata": {},
   "outputs": [
    {
     "name": "stdout",
     "output_type": "stream",
     "text": [
      "[1 2 7 9]\n"
     ]
    }
   ],
   "source": [
    "df = pd.read_csv('nhanes_2015_2016.csv')\n",
    "df2 = df.copy()\n",
    "print(df2.SMQ020.unique())"
   ]
  },
  {
   "cell_type": "code",
   "execution_count": 30,
   "id": "d5026a70",
   "metadata": {},
   "outputs": [
    {
     "name": "stdout",
     "output_type": "stream",
     "text": [
      "[1 2]\n"
     ]
    }
   ],
   "source": [
    "print(df2.RIAGENDR.unique())"
   ]
  },
  {
   "cell_type": "markdown",
   "id": "a033c8f6",
   "metadata": {},
   "source": [
    "We'll create a new column to indicate **YES = smokers, NO = Non-smokers and `NaN` for others.**\n",
    "We will also create a new column **Gender** from **RIAGENDR** to indicate **Male** and **Female** instead of **1** and **2**."
   ]
  },
  {
   "cell_type": "code",
   "execution_count": 31,
   "id": "efe8c47c",
   "metadata": {},
   "outputs": [
    {
     "name": "stdout",
     "output_type": "stream",
     "text": [
      "(1015, 2)\n"
     ]
    },
    {
     "data": {
      "text/html": [
       "<div>\n",
       "<style scoped>\n",
       "    .dataframe tbody tr th:only-of-type {\n",
       "        vertical-align: middle;\n",
       "    }\n",
       "\n",
       "    .dataframe tbody tr th {\n",
       "        vertical-align: top;\n",
       "    }\n",
       "\n",
       "    .dataframe thead th {\n",
       "        text-align: right;\n",
       "    }\n",
       "</style>\n",
       "<table border=\"1\" class=\"dataframe\">\n",
       "  <thead>\n",
       "    <tr style=\"text-align: right;\">\n",
       "      <th></th>\n",
       "      <th>SMOKER</th>\n",
       "      <th>GENDER</th>\n",
       "    </tr>\n",
       "  </thead>\n",
       "  <tbody>\n",
       "    <tr>\n",
       "      <th>4784</th>\n",
       "      <td>YES</td>\n",
       "      <td>Female</td>\n",
       "    </tr>\n",
       "    <tr>\n",
       "      <th>1962</th>\n",
       "      <td>NO</td>\n",
       "      <td>Male</td>\n",
       "    </tr>\n",
       "    <tr>\n",
       "      <th>5512</th>\n",
       "      <td>YES</td>\n",
       "      <td>Male</td>\n",
       "    </tr>\n",
       "    <tr>\n",
       "      <th>3230</th>\n",
       "      <td>YES</td>\n",
       "      <td>Male</td>\n",
       "    </tr>\n",
       "    <tr>\n",
       "      <th>3712</th>\n",
       "      <td>YES</td>\n",
       "      <td>Male</td>\n",
       "    </tr>\n",
       "  </tbody>\n",
       "</table>\n",
       "</div>"
      ],
      "text/plain": [
       "     SMOKER  GENDER\n",
       "4784    YES  Female\n",
       "1962     NO    Male\n",
       "5512    YES    Male\n",
       "3230    YES    Male\n",
       "3712    YES    Male"
      ]
     },
     "execution_count": 31,
     "metadata": {},
     "output_type": "execute_result"
    }
   ],
   "source": [
    "df2['SMOKER'] = df2.SMQ020.replace({1: 'YES', 2: 'NO', 7: np.nan, 9: np.nan})\n",
    "df2['GENDER'] = df2.RIAGENDR.replace({1: 'Male', 2: 'Female'})\n",
    "\n",
    "df_smoke_gender = df2[(df2['RIDAGEYR'] >= 18) & (df2['RIDRETH1'] == 1)][['SMOKER', 'GENDER']].dropna()\n",
    "print(df_smoke_gender.shape)\n",
    "df_smoke_gender.sample(5)"
   ]
  },
  {
   "cell_type": "markdown",
   "id": "23badd00",
   "metadata": {},
   "source": [
    "#### Create cross tabulation table for categorical variables SMOKER and GENDER (contingency table)"
   ]
  },
  {
   "cell_type": "code",
   "execution_count": 32,
   "id": "907fa5a1",
   "metadata": {},
   "outputs": [
    {
     "data": {
      "text/html": [
       "<div>\n",
       "<style scoped>\n",
       "    .dataframe tbody tr th:only-of-type {\n",
       "        vertical-align: middle;\n",
       "    }\n",
       "\n",
       "    .dataframe tbody tr th {\n",
       "        vertical-align: top;\n",
       "    }\n",
       "\n",
       "    .dataframe thead th {\n",
       "        text-align: right;\n",
       "    }\n",
       "</style>\n",
       "<table border=\"1\" class=\"dataframe\">\n",
       "  <thead>\n",
       "    <tr style=\"text-align: right;\">\n",
       "      <th>GENDER</th>\n",
       "      <th>Female</th>\n",
       "      <th>Male</th>\n",
       "    </tr>\n",
       "    <tr>\n",
       "      <th>SMOKER</th>\n",
       "      <th></th>\n",
       "      <th></th>\n",
       "    </tr>\n",
       "  </thead>\n",
       "  <tbody>\n",
       "    <tr>\n",
       "      <th>NO</th>\n",
       "      <td>431</td>\n",
       "      <td>240</td>\n",
       "    </tr>\n",
       "    <tr>\n",
       "      <th>YES</th>\n",
       "      <td>110</td>\n",
       "      <td>234</td>\n",
       "    </tr>\n",
       "  </tbody>\n",
       "</table>\n",
       "</div>"
      ],
      "text/plain": [
       "GENDER  Female  Male\n",
       "SMOKER              \n",
       "NO         431   240\n",
       "YES        110   234"
      ]
     },
     "execution_count": 32,
     "metadata": {},
     "output_type": "execute_result"
    }
   ],
   "source": [
    "table = pd.crosstab(df_smoke_gender.SMOKER, df_smoke_gender.GENDER)\n",
    "table"
   ]
  },
  {
   "cell_type": "markdown",
   "id": "16ec07c0",
   "metadata": {},
   "source": [
    "#### Using scipy's `stats.chi2_contingency` to obtain `pvalue`, `chi-square` statistic, `dof`, and `expected values`\n",
    "**`stats.chi2_contingency`** accept a **contingency table** as argument."
   ]
  },
  {
   "cell_type": "code",
   "execution_count": 35,
   "id": "b53e96c0",
   "metadata": {},
   "outputs": [
    {
     "name": "stdout",
     "output_type": "stream",
     "text": [
      "chi-square = 93.766\n",
      "dof = 1\n",
      "pvalue = 0.0\n",
      "\n",
      "Significant outcome! Reject the null hypothesis which states that:\n",
      "\"There was no difference in the frequency of occurrences (proportions) between Mexican-American male and female smokers (ages 18+) living in the U.S in 2015-2016.\"\n",
      "\n",
      "Accept the alternative or research hypothesis which states that:\n",
      "\"There was a significant difference in the frequency of occurrences (proportions) between Mexican-American male and female smokers (ages 18+) living in the U.S in 2015-2016.\"\n"
     ]
    }
   ],
   "source": [
    "H0 = '\"There was no difference in the frequency of occurrences (proportions) between Mexican-American male and female \\\n",
    "smokers (ages 18+) living in the U.S in 2015-2016.\"'\n",
    "\n",
    "H1 = '\"There was a significant difference in the frequency of occurrences (proportions) between Mexican-American male and \\\n",
    "female smokers (ages 18+) living in the U.S in 2015-2016.\"'\n",
    "\n",
    "alpha = 0.05\n",
    "\n",
    "chi_sq_stat, p_value, dof, expected = stats.chi2_contingency(table)\n",
    "print(f'chi-square = {round(chi_sq_stat, 3)}\\ndof = {dof}\\npvalue = {round(p_value, 3)}\\n')\n",
    "\n",
    "if p_value <= alpha:\n",
    "    print(f'Significant outcome! Reject the null hypothesis which states that:\\n{H0}\\n')\n",
    "    print(f'Accept the alternative or research hypothesis which states that:\\n{H1}')\n",
    "else:\n",
    "    print(f'Not significant outcome! Fail to reject the null hypothesis which states that:\\n{H0}')"
   ]
  },
  {
   "cell_type": "markdown",
   "id": "2036c375",
   "metadata": {},
   "source": [
    "**We can interpret the statistic by retrieving the critical value from the Chi-Squared distribution**"
   ]
  },
  {
   "cell_type": "code",
   "execution_count": 36,
   "id": "adcfb03d",
   "metadata": {},
   "outputs": [
    {
     "name": "stdout",
     "output_type": "stream",
     "text": [
      "chi-critical = 5.024\n",
      "\n",
      "Significant outcome! Reject the null hypothesis which states that:\n",
      "\"There was no difference in the frequency of occurrences (proportions) between Mexican-American male and female smokers (ages 18+) living in the U.S in 2015-2016.\"\n",
      "\n",
      "Accept the alternative or research hypothesis which states that:\n",
      "\"There was a significant difference in the frequency of occurrences (proportions) between Mexican-American male and female smokers (ages 18+) living in the U.S in 2015-2016.\"\n"
     ]
    }
   ],
   "source": [
    "prob = 1 - alpha / 2                                    # 95% confidence level, two-tailed test\n",
    "chi_crit = stats.chi2.ppf(prob, dof)\n",
    "print(f'chi-critical = {round(chi_crit, 3)}\\n')\n",
    "\n",
    "if chi_sq_stat >= chi_crit:\n",
    "    print(f'Significant outcome! Reject the null hypothesis which states that:\\n{H0}\\n')\n",
    "    print(f'Accept the alternative or research hypothesis which states that:\\n{H1}')\n",
    "else:\n",
    "    print(f'Not significant outcome! Fail to reject the null hypothesis which states that:\\n{H0}')"
   ]
  },
  {
   "cell_type": "markdown",
   "id": "90326dc4",
   "metadata": {},
   "source": [
    "**Confidence Interval approach still using cross tabulation table**"
   ]
  },
  {
   "cell_type": "code",
   "execution_count": 37,
   "id": "2f416533",
   "metadata": {},
   "outputs": [
    {
     "data": {
      "text/html": [
       "<div>\n",
       "<style scoped>\n",
       "    .dataframe tbody tr th:only-of-type {\n",
       "        vertical-align: middle;\n",
       "    }\n",
       "\n",
       "    .dataframe tbody tr th {\n",
       "        vertical-align: top;\n",
       "    }\n",
       "\n",
       "    .dataframe thead th {\n",
       "        text-align: right;\n",
       "    }\n",
       "</style>\n",
       "<table border=\"1\" class=\"dataframe\">\n",
       "  <thead>\n",
       "    <tr style=\"text-align: right;\">\n",
       "      <th>GENDER</th>\n",
       "      <th>Female</th>\n",
       "      <th>Male</th>\n",
       "      <th>Total</th>\n",
       "    </tr>\n",
       "    <tr>\n",
       "      <th>SMOKER</th>\n",
       "      <th></th>\n",
       "      <th></th>\n",
       "      <th></th>\n",
       "    </tr>\n",
       "  </thead>\n",
       "  <tbody>\n",
       "    <tr>\n",
       "      <th>NO</th>\n",
       "      <td>431</td>\n",
       "      <td>240</td>\n",
       "      <td>671</td>\n",
       "    </tr>\n",
       "    <tr>\n",
       "      <th>YES</th>\n",
       "      <td>110</td>\n",
       "      <td>234</td>\n",
       "      <td>344</td>\n",
       "    </tr>\n",
       "    <tr>\n",
       "      <th>Total</th>\n",
       "      <td>541</td>\n",
       "      <td>474</td>\n",
       "      <td>1015</td>\n",
       "    </tr>\n",
       "  </tbody>\n",
       "</table>\n",
       "</div>"
      ],
      "text/plain": [
       "GENDER  Female  Male  Total\n",
       "SMOKER                     \n",
       "NO         431   240    671\n",
       "YES        110   234    344\n",
       "Total      541   474   1015"
      ]
     },
     "execution_count": 37,
     "metadata": {},
     "output_type": "execute_result"
    }
   ],
   "source": [
    "ctable = pd.crosstab(df_smoke_gender.SMOKER, df_smoke_gender.GENDER, margins = True, margins_name = 'Total')\n",
    "ctable"
   ]
  },
  {
   "cell_type": "markdown",
   "id": "1bb099b2",
   "metadata": {},
   "source": [
    "**Compute Proportions of male and female smokers**"
   ]
  },
  {
   "cell_type": "code",
   "execution_count": 38,
   "id": "21e9f259",
   "metadata": {},
   "outputs": [
    {
     "name": "stdout",
     "output_type": "stream",
     "text": [
      "Proportion of Male Smokers = 0.4937\n",
      "Proportion of Female Smokers = 0.2033\n"
     ]
    }
   ],
   "source": [
    "prop_male_smokers = ctable.loc['YES', 'Male'] / ctable.loc['Total', 'Male']\n",
    "prop_female_smokers = ctable.loc['YES', 'Female'] / ctable.loc['Total', 'Female'] \n",
    "\n",
    "print(f'Proportion of Male Smokers = {round(prop_male_smokers, 4)}')\n",
    "print(f'Proportion of Female Smokers = {round(prop_female_smokers, 4)}')"
   ]
  },
  {
   "cell_type": "markdown",
   "id": "dae8706d",
   "metadata": {},
   "source": [
    "#### Standard Error for Difference of Two Population Proportions or Means\n",
    "The **Standard Error** for **Difference of two Population Proportions or Means** is given by:\n",
    "\n",
    "$SE = \\sqrt{SE_{prpoportion 1}^2 + SE_{prpoportion 2}^2}$\n",
    "\n",
    "#### Compute Confidence Interval for Difference of Two Population Proportions \n",
    "**`Confidence_Interval = Best_Estimate` $\\pm$ `Margin_of_Error`**\n",
    "\n",
    "For **95% Confidence level** the **Confidence Interval** for **Two Population Proportions** is computed as:\n",
    "\n",
    "$CI = \\bar{p}_1 - \\bar{p}_2 \\pm 1.96\\sqrt{\\frac{\\bar{p}_1(1 - \\bar{p}_1)}{n_1} + \\frac{\\bar{p}_2(1 - \\bar{p}_2)}{n_2}}$\n",
    "\n",
    "OR\n",
    "\n",
    "$CI = \\bar{p}_1 - \\bar{p}_2 \\pm Z_{critical}\\sqrt{\\frac{\\bar{p}_1(1 - \\bar{p}_1)}{n_1} + \\frac{\\bar{p}_2(1 - \\bar{p}_2)}{n_2}}$\n",
    "\n",
    "#### Assumptions\n",
    "* We need to assume that we have **two independent random samples**\n",
    "* We also need large enough samples sizes to assume that the distribution of our estimate is normal or that the distribution of our samples are **normal** (`n1 x p_hat >= 10` and `n1 x (1 - p_hat) >= 10`, `n2 x p_hat >= 10` and `n2 x (1 - p_hat) >= 10`).\n",
    "\n",
    "**Calculate $\\bar{p}$ and test for normality**"
   ]
  },
  {
   "cell_type": "code",
   "execution_count": 40,
   "id": "2a23c1c3",
   "metadata": {},
   "outputs": [
    {
     "name": "stdout",
     "output_type": "stream",
     "text": [
      "p_hat = 0.339\n",
      "Assumptions are met :)!\n"
     ]
    }
   ],
   "source": [
    "n1 = ctable.loc['Total', 'Male']                   # Total population number of males\n",
    "x1 = ctable.loc['YES', 'Male']                     # total male smokers\n",
    "p_hat1 = x1/n1                                     # proportion of male smokers\n",
    "\n",
    "n2 = ctable.loc['Total', 'Female']                 # Total population number of females\n",
    "x2 = ctable.loc['YES', 'Female']                   # total female smokers\n",
    "p_hat2 = x2/n2                                     # proportion of female smokers\n",
    "\n",
    "\n",
    "p_hat = (x1 + x2) / (n1 + n2)\n",
    "\n",
    "print(f'p_hat = {round(p_hat, 3)}')\n",
    "\n",
    "if ((n1  * p_hat >= 10) & ((n1  * (1 - p_hat)) >= 10)) & ((n2  * p_hat > 10) & ((n2  * (1 - p_hat)) >= 10)):\n",
    "    print('Assumptions are met :)!')\n",
    "else:\n",
    "    print('Assumptions are not met :(!')"
   ]
  },
  {
   "cell_type": "markdown",
   "id": "3e6f3ae6",
   "metadata": {},
   "source": [
    "**Confidence Interval for Difference of Population Proportions between Female smokers and Male Smokers**"
   ]
  },
  {
   "cell_type": "code",
   "execution_count": 39,
   "id": "57fa4776",
   "metadata": {},
   "outputs": [
    {
     "name": "stdout",
     "output_type": "stream",
     "text": [
      "Critical-z = 1.96\n",
      "Point estimate(p1-p2) = 0.2903 (29.03%)\n",
      "Confidence Interval = (0.234, 0.3467)\n",
      "This is equivalent to (23.4% , 34.67%)\n"
     ]
    }
   ],
   "source": [
    "n1 = ctable.loc['Total', 'Male']                   # Total population number of males\n",
    "x1 = ctable.loc['YES', 'Male']                     # total male smokers\n",
    "p_hat1 = x1/n1                                     # proportion of male smokers\n",
    "\n",
    "n2 = ctable.loc['Total', 'Female']                 # Total population number of females\n",
    "x2 = ctable.loc['YES', 'Female']                   # total female smokers\n",
    "p_hat2 = x2/n2                                     # proportion of female smokers\n",
    "\n",
    "alpha = 0.05\n",
    "prop = 1 - alpha / 2\n",
    "critical_z = stats.norm.ppf(prob)\n",
    "standard_error = np.sqrt((p_hat1 * (1 - p_hat1)/n1) + (p_hat2 * (1 - p_hat2)/n2))\n",
    "margin_of_error = critical_z * standard_error\n",
    "\n",
    "ci_upper = (p_hat1 - p_hat2) + margin_of_error       # upper bound CI\n",
    "ci_lower = (p_hat1 - p_hat2) - margin_of_error       # lower bound CI\n",
    "\n",
    "print(f'Critical-z = {round(critical_z, 2)}')\n",
    "print(f'Point estimate(p1-p2) = {round((p_hat1 - p_hat2), 4)} ({round((p_hat1 - p_hat2) * 100, 2)}%)')\n",
    "print(f'Confidence Interval = {(round(ci_lower, 4), round(ci_upper, 4))}')\n",
    "print(f'This is equivalent to ({round(ci_lower * 100, 2)}% , {round(ci_upper * 100, 2)}%)')"
   ]
  },
  {
   "cell_type": "markdown",
   "id": "2ca11d26",
   "metadata": {},
   "source": [
    "### Interpretation\n",
    "With **95%** confidence, difference in the **population proportions** between Mexican-American male and female smokers (ages 18+) living in the U.S in 2015-2016 is *estimated* to be between **23.4%** and **34.67%**. \n",
    "\n",
    "This means if this procedure were repeated over and over, each time computing the **95%** confidence interval estimate, we would expect **95% of those calculated `intervals` to contain the true difference in population proportion**.\n",
    "\n",
    "Our **best estimate ($\\bar{p}_1-\\bar{p}_2$) = 29.03%** of the population parameter **lies in this range**."
   ]
  },
  {
   "cell_type": "code",
   "execution_count": null,
   "id": "e7590a9c",
   "metadata": {},
   "outputs": [],
   "source": []
  }
 ],
 "metadata": {
  "kernelspec": {
   "display_name": "Python 3 (ipykernel)",
   "language": "python",
   "name": "python3"
  },
  "language_info": {
   "codemirror_mode": {
    "name": "ipython",
    "version": 3
   },
   "file_extension": ".py",
   "mimetype": "text/x-python",
   "name": "python",
   "nbconvert_exporter": "python",
   "pygments_lexer": "ipython3",
   "version": "3.9.7"
  }
 },
 "nbformat": 4,
 "nbformat_minor": 5
}
