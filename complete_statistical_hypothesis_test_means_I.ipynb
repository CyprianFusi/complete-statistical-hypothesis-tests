{
 "cells": [
  {
   "cell_type": "markdown",
   "id": "89255260",
   "metadata": {},
   "source": [
    "### Data Source\n",
    "In this exercise we shall be using [The National Health and Nutrition Examination Surveys](https://wwwn.cdc.gov/nchs/nhanes/continuousnhanes/overview.aspx?BeginYear=2015) (NHANES) dataset specifically the [nhanes 2015-2016](https://raw.githubusercontent.com/UMstatspy/UMStatsPy/master/NHANES/merged/nhanes_2015_2016.csv). Alternatively, the dataset can also be found at [nhanes 2015-2016](https://github.com/rashida048/Datasets/blob/master/nhanes_2015_2016.csv).\n",
    "\n",
    "**Description of the variables can be found at [Data Processing and Editing](https://wwwn.cdc.gov/nchs/nhanes/2015-2016/DEMO_I.htm)**.\n",
    "\n",
    "* **RIDAGEYR**: Age in years, at the time of the screening interview\n",
    "* **RIDRETH1**: Race/Hispanic origin (1 = Mexican American, 3 = Non-Hispanic White, 4 = Non-Hispanic Black)\n",
    "* **RIAGENDR**: Gender (1 = Male, 2 = Female)\n",
    "* **SMQ020**: Smoker (1 = YES, 2 = NO)\n",
    "* **BMXBMI**: Body Mass Index\n",
    "* **BPXSY**(1 and 2): = Systolic Blood Pressure\n",
    "\n",
    "#### Some Python Packages we shall be using"
   ]
  },
  {
   "cell_type": "code",
   "execution_count": 2,
   "id": "ca6423fc",
   "metadata": {},
   "outputs": [],
   "source": [
    "import numpy as np\n",
    "import pandas as pd\n",
    "from matplotlib import pyplot as plt\n",
    "import seaborn as sns\n",
    "import scipy.stats as stats\n",
    "from statsmodels.formula.api import ols\n",
    "import statsmodels.api as sm\n",
    "from statsmodels.distributions.empirical_distribution import ECDF\n",
    "from statsmodels.stats.oneway import effectsize_oneway\n",
    "import scikit_posthocs as sp\n",
    "import os\n",
    "from collections import Counter\n",
    "%matplotlib inline\n",
    "os.chdir('./resources/')"
   ]
  },
  {
   "cell_type": "markdown",
   "id": "2e08055e",
   "metadata": {},
   "source": [
    "### Research Question 1\n",
    "Was the **mean systolic blood pressure** for non-Hispanic **African-American age 18+** in U.S in 2015-2016 equal to **128 mmHg** or was the **population mean different from 128**?\n",
    "\n",
    "#### Some data from the Research Question\n",
    "* Population: Non-Hispanic **African-American above 18 years** in U.S in 2015-2016\n",
    "* Null Hypothesis H0: The **mean Systolic Blood Pressure** for non-Hispanic **African-American above 18 years** in U.S in 2015-2016 is equal to **128 mmHg**($H0: \\mu = 128$) mmHg. \n",
    "* Alternative Hypothesis H1: The **mean Systolic Blood Pressure** for non-Hispanic **African-American above 18 years** in U.S in 2015-2016 is not equal to **128 mmHg**($H0: \\mu \\ne 128$) mmHg. \n",
    "\n",
    "Based on the research question we are interested in a descriptive measure of central tendency - the mean of a single group. \n",
    "The appropriate inferential procedure is the **One Sample z-test for Means**. And since we are not ineterest in whether the mean is greater than or less than the null, this is **non-directional** or **two-tailed test**.\n",
    "\n",
    "We shall consider a **Type I Error or signicance level of 5% (alpha = 0.05)**. This is the **risk of rejecting the null hypothesis when it is true!**\n",
    "### Let have a look at the data"
   ]
  },
  {
   "cell_type": "code",
   "execution_count": 3,
   "id": "b5959641",
   "metadata": {},
   "outputs": [
    {
     "name": "stdout",
     "output_type": "stream",
     "text": [
      "Size of dataset = (5735, 28)\n"
     ]
    },
    {
     "data": {
      "text/html": [
       "<div>\n",
       "<style scoped>\n",
       "    .dataframe tbody tr th:only-of-type {\n",
       "        vertical-align: middle;\n",
       "    }\n",
       "\n",
       "    .dataframe tbody tr th {\n",
       "        vertical-align: top;\n",
       "    }\n",
       "\n",
       "    .dataframe thead th {\n",
       "        text-align: right;\n",
       "    }\n",
       "</style>\n",
       "<table border=\"1\" class=\"dataframe\">\n",
       "  <thead>\n",
       "    <tr style=\"text-align: right;\">\n",
       "      <th></th>\n",
       "      <th>SEQN</th>\n",
       "      <th>ALQ101</th>\n",
       "      <th>ALQ110</th>\n",
       "      <th>ALQ130</th>\n",
       "      <th>SMQ020</th>\n",
       "      <th>RIAGENDR</th>\n",
       "      <th>RIDAGEYR</th>\n",
       "      <th>RIDRETH1</th>\n",
       "      <th>DMDCITZN</th>\n",
       "      <th>DMDEDUC2</th>\n",
       "      <th>...</th>\n",
       "      <th>BPXSY2</th>\n",
       "      <th>BPXDI2</th>\n",
       "      <th>BMXWT</th>\n",
       "      <th>BMXHT</th>\n",
       "      <th>BMXBMI</th>\n",
       "      <th>BMXLEG</th>\n",
       "      <th>BMXARML</th>\n",
       "      <th>BMXARMC</th>\n",
       "      <th>BMXWAIST</th>\n",
       "      <th>HIQ210</th>\n",
       "    </tr>\n",
       "  </thead>\n",
       "  <tbody>\n",
       "    <tr>\n",
       "      <th>0</th>\n",
       "      <td>83732</td>\n",
       "      <td>1.0</td>\n",
       "      <td>NaN</td>\n",
       "      <td>1.0</td>\n",
       "      <td>1</td>\n",
       "      <td>1</td>\n",
       "      <td>62</td>\n",
       "      <td>3</td>\n",
       "      <td>1.0</td>\n",
       "      <td>5.0</td>\n",
       "      <td>...</td>\n",
       "      <td>124.0</td>\n",
       "      <td>64.0</td>\n",
       "      <td>94.8</td>\n",
       "      <td>184.5</td>\n",
       "      <td>27.8</td>\n",
       "      <td>43.3</td>\n",
       "      <td>43.6</td>\n",
       "      <td>35.9</td>\n",
       "      <td>101.1</td>\n",
       "      <td>2.0</td>\n",
       "    </tr>\n",
       "    <tr>\n",
       "      <th>1</th>\n",
       "      <td>83733</td>\n",
       "      <td>1.0</td>\n",
       "      <td>NaN</td>\n",
       "      <td>6.0</td>\n",
       "      <td>1</td>\n",
       "      <td>1</td>\n",
       "      <td>53</td>\n",
       "      <td>3</td>\n",
       "      <td>2.0</td>\n",
       "      <td>3.0</td>\n",
       "      <td>...</td>\n",
       "      <td>140.0</td>\n",
       "      <td>88.0</td>\n",
       "      <td>90.4</td>\n",
       "      <td>171.4</td>\n",
       "      <td>30.8</td>\n",
       "      <td>38.0</td>\n",
       "      <td>40.0</td>\n",
       "      <td>33.2</td>\n",
       "      <td>107.9</td>\n",
       "      <td>NaN</td>\n",
       "    </tr>\n",
       "    <tr>\n",
       "      <th>2</th>\n",
       "      <td>83734</td>\n",
       "      <td>1.0</td>\n",
       "      <td>NaN</td>\n",
       "      <td>NaN</td>\n",
       "      <td>1</td>\n",
       "      <td>1</td>\n",
       "      <td>78</td>\n",
       "      <td>3</td>\n",
       "      <td>1.0</td>\n",
       "      <td>3.0</td>\n",
       "      <td>...</td>\n",
       "      <td>132.0</td>\n",
       "      <td>44.0</td>\n",
       "      <td>83.4</td>\n",
       "      <td>170.1</td>\n",
       "      <td>28.8</td>\n",
       "      <td>35.6</td>\n",
       "      <td>37.0</td>\n",
       "      <td>31.0</td>\n",
       "      <td>116.5</td>\n",
       "      <td>2.0</td>\n",
       "    </tr>\n",
       "    <tr>\n",
       "      <th>3</th>\n",
       "      <td>83735</td>\n",
       "      <td>2.0</td>\n",
       "      <td>1.0</td>\n",
       "      <td>1.0</td>\n",
       "      <td>2</td>\n",
       "      <td>2</td>\n",
       "      <td>56</td>\n",
       "      <td>3</td>\n",
       "      <td>1.0</td>\n",
       "      <td>5.0</td>\n",
       "      <td>...</td>\n",
       "      <td>134.0</td>\n",
       "      <td>68.0</td>\n",
       "      <td>109.8</td>\n",
       "      <td>160.9</td>\n",
       "      <td>42.4</td>\n",
       "      <td>38.5</td>\n",
       "      <td>37.7</td>\n",
       "      <td>38.3</td>\n",
       "      <td>110.1</td>\n",
       "      <td>2.0</td>\n",
       "    </tr>\n",
       "    <tr>\n",
       "      <th>4</th>\n",
       "      <td>83736</td>\n",
       "      <td>2.0</td>\n",
       "      <td>1.0</td>\n",
       "      <td>1.0</td>\n",
       "      <td>2</td>\n",
       "      <td>2</td>\n",
       "      <td>42</td>\n",
       "      <td>4</td>\n",
       "      <td>1.0</td>\n",
       "      <td>4.0</td>\n",
       "      <td>...</td>\n",
       "      <td>114.0</td>\n",
       "      <td>54.0</td>\n",
       "      <td>55.2</td>\n",
       "      <td>164.9</td>\n",
       "      <td>20.3</td>\n",
       "      <td>37.4</td>\n",
       "      <td>36.0</td>\n",
       "      <td>27.2</td>\n",
       "      <td>80.4</td>\n",
       "      <td>2.0</td>\n",
       "    </tr>\n",
       "  </tbody>\n",
       "</table>\n",
       "<p>5 rows × 28 columns</p>\n",
       "</div>"
      ],
      "text/plain": [
       "    SEQN  ALQ101  ALQ110  ALQ130  SMQ020  RIAGENDR  RIDAGEYR  RIDRETH1  \\\n",
       "0  83732     1.0     NaN     1.0       1         1        62         3   \n",
       "1  83733     1.0     NaN     6.0       1         1        53         3   \n",
       "2  83734     1.0     NaN     NaN       1         1        78         3   \n",
       "3  83735     2.0     1.0     1.0       2         2        56         3   \n",
       "4  83736     2.0     1.0     1.0       2         2        42         4   \n",
       "\n",
       "   DMDCITZN  DMDEDUC2  ...  BPXSY2  BPXDI2  BMXWT  BMXHT  BMXBMI  BMXLEG  \\\n",
       "0       1.0       5.0  ...   124.0    64.0   94.8  184.5    27.8    43.3   \n",
       "1       2.0       3.0  ...   140.0    88.0   90.4  171.4    30.8    38.0   \n",
       "2       1.0       3.0  ...   132.0    44.0   83.4  170.1    28.8    35.6   \n",
       "3       1.0       5.0  ...   134.0    68.0  109.8  160.9    42.4    38.5   \n",
       "4       1.0       4.0  ...   114.0    54.0   55.2  164.9    20.3    37.4   \n",
       "\n",
       "   BMXARML  BMXARMC  BMXWAIST  HIQ210  \n",
       "0     43.6     35.9     101.1     2.0  \n",
       "1     40.0     33.2     107.9     NaN  \n",
       "2     37.0     31.0     116.5     2.0  \n",
       "3     37.7     38.3     110.1     2.0  \n",
       "4     36.0     27.2      80.4     2.0  \n",
       "\n",
       "[5 rows x 28 columns]"
      ]
     },
     "execution_count": 3,
     "metadata": {},
     "output_type": "execute_result"
    }
   ],
   "source": [
    "df = pd.read_csv('nhanes_2015_2016.csv')\n",
    "print(f'Size of dataset = {df.shape}')\n",
    "df.head()"
   ]
  },
  {
   "cell_type": "markdown",
   "id": "9d638a21",
   "metadata": {},
   "source": [
    "#### NOTE\n",
    "NHANES researchers wanted to make sure that measures of blood pressure are realiable across subgroups. Therefore each NHANES respondent had two measures collected (**BPXSY1** and **BPXSY2**). We will use **BPXSY1** in this analysis. "
   ]
  },
  {
   "cell_type": "code",
   "execution_count": 4,
   "id": "cf415a13",
   "metadata": {},
   "outputs": [],
   "source": [
    "df1 = df.copy()\n",
    "df_bp1 = df1[(df1['RIDAGEYR'] >= 18) & (df1['RIDRETH1'] == 4)]['BPXSY1'].dropna()"
   ]
  },
  {
   "cell_type": "code",
   "execution_count": 5,
   "id": "ec54de47",
   "metadata": {},
   "outputs": [
    {
     "name": "stdout",
     "output_type": "stream",
     "text": [
      "count    1135.000000\n",
      "mean      128.251982\n",
      "std        19.958244\n",
      "min        84.000000\n",
      "25%       114.000000\n",
      "50%       126.000000\n",
      "75%       138.000000\n",
      "max       236.000000\n",
      "Name: BPXSY1, dtype: float64\n"
     ]
    }
   ],
   "source": [
    "print(df_bp1.describe())"
   ]
  },
  {
   "cell_type": "code",
   "execution_count": 6,
   "id": "801fee56",
   "metadata": {},
   "outputs": [
    {
     "name": "stdout",
     "output_type": "stream",
     "text": [
      "sample mean(SBP) = 128.25\n",
      "Number of respondents = 1135.0\n"
     ]
    }
   ],
   "source": [
    "mean = df_bp1.describe()['mean']\n",
    "n = df_bp1.describe()['count']\n",
    "print(f'sample mean(SBP) = {round(mean, 2)}')\n",
    "print(f'Number of respondents = {n}')"
   ]
  },
  {
   "cell_type": "markdown",
   "id": "668573de",
   "metadata": {},
   "source": [
    "Our sample mean is **`128.25`** while our null is **`128`**. The difference is not much but our test would tell us whether this small difference is significant or not for the **population** of **non-Hispanic African-American above 18 years in U.S in 2015-2016**.\n",
    "\n",
    "But first we need to check the assumptions required for the **z-test**. \n",
    "* The samples are expected to be independent and identically distributed (iid). This means that the samples should be independent and randomly selected from a polulation with identical distribution. We would assuption that the NHANES data meets this criterion.\n",
    "* The sample is expected to be normally distributed. Let's check this using plots."
   ]
  },
  {
   "cell_type": "code",
   "execution_count": 7,
   "id": "c321d812",
   "metadata": {},
   "outputs": [
    {
     "data": {
      "image/png": "[encoded data removed]",
      "text/plain": [
       "<Figure size 1152x360 with 3 Axes>"
      ]
     },
     "metadata": {
      "needs_background": "light"
     },
     "output_type": "display_data"
    }
   ],
   "source": [
    "fig, axes = plt.subplots(1, 3, figsize = (16, 5), sharex = False)\n",
    "sns.histplot(df_bp1, kde = True, ax = axes[0])\n",
    "axes[0].title.set_text('Historgram of Blacks adults (18+)')\n",
    "stats.probplot(df_bp1, dist = 'norm', plot = axes[1])              \n",
    "axes[1].title.set_text('QQ plot of Blacks adults (18+)')\n",
    "sns.boxplot(x = df_bp1, ax = axes[2])\n",
    "axes[2].title.set_text('Boxplot of Blacks adults (18+)')"
   ]
  },
  {
   "cell_type": "markdown",
   "id": "ebec6413",
   "metadata": {},
   "source": [
    "From the looks of things we can conclude, with sufficient data and based on the **Central Limit Theorem (CLT)**, that the sample is coming from a population that is normally distributed and therefore go ahead with our analysis. There are many approaches to this test but we shall use **statsmodels's `stats.ztest` methode to compute the test statistic (z-value) and p-value**. \n",
    "\n",
    "For a **two-tailed** test the **signicance level of 5% or 0.05** is divided by **2** - **0.025** for each tail."
   ]
  },
  {
   "cell_type": "code",
   "execution_count": 8,
   "id": "5c5b4410",
   "metadata": {},
   "outputs": [
    {
     "name": "stdout",
     "output_type": "stream",
     "text": [
      "test statistic (z-value) = 0.425\n",
      "pvalue = 0.671\n",
      "\n",
      "Not significant outcome! Fail to reject the null hypothesis which states that:\n",
      "\"The mean Systolic Blood Pressure for non-Hispanic African-American above 18 years in U.S in 2015-2016 is equal to 128 mmHg\"\n",
      "The results from the observed sample is due to random chance!\n"
     ]
    }
   ],
   "source": [
    "test_stat, pvalue = sm.stats.ztest(df_bp1, value = 128, alternative = 'two-sided')   \n",
    "\n",
    "print(f'test statistic (z-value) = {round(test_stat, 3)}')\n",
    "print(f'pvalue = {round(pvalue, 3)}\\n')\n",
    "\n",
    "alpha = 0.05 / 2\n",
    "\n",
    "H0 = '\"The mean Systolic Blood Pressure for non-Hispanic African-American above 18 years in U.S in 2015-2016 \\\n",
    "is equal to 128 mmHg\"'\n",
    "\n",
    "H1 = '\"The mean Systolic Blood Pressure for non-Hispanic African-American above 18 years in U.S in 2015-2016 \\\n",
    "is not equal to 128 mmHg\"'\n",
    "\n",
    "if pvalue <= alpha:\n",
    "    print(f'Significant outcome! Reject the null hypothesis which states that:\\n{H0}\\n')\n",
    "else:\n",
    "    print(f'Not significant outcome! Fail to reject the null hypothesis which states that:\\n{H0}')\n",
    "    print('The results from the observed sample is due to random chance!')"
   ]
  },
  {
   "cell_type": "markdown",
   "id": "9d037d00",
   "metadata": {},
   "source": [
    "The conclusion here is that with a null mean of 128 mmHg, observing a **sample mean Systolic Blood Pressure of 128.252 mmHg** or more extreme among **African-American above 18 years in U.S in 2015-2016** is **quite likely**. We therefore **do not have enough eveidence (from observed sample) to reject the Null Hypothesis**.\n",
    "\n",
    "### Effect Size\n",
    "**Effect size** is a measure of **how different two groups are from one another**. For example it’s a measure of the magnitude of the treatment given to one group that makes it significantly different from the other group. **Effect Size** would tell whether **statistically significant difference is also meaningful or not**. The **Effect Size** is computed using the **Cohen’s d** formula. For a **one-sample Z-test** it is given by:\n",
    "\n",
    "$d = \\frac{\\bar{x} - \\mu}{\\sigma}$   where\n",
    "\n",
    "* $\\bar{x}$ = sample mean\n",
    "* $\\sigma$ = the standard deviation for the population\n",
    "* $\\mu$ = population mean"
   ]
  },
  {
   "cell_type": "code",
   "execution_count": 9,
   "id": "78b60050",
   "metadata": {},
   "outputs": [],
   "source": [
    "def cohen_d(mean, mu, std):\n",
    "    return (mean - mu) / std"
   ]
  },
  {
   "cell_type": "code",
   "execution_count": 10,
   "id": "0ac4ba03",
   "metadata": {},
   "outputs": [
    {
     "name": "stdout",
     "output_type": "stream",
     "text": [
      "Effect Size(d) = 0.01\n"
     ]
    }
   ],
   "source": [
    "mu = 128\n",
    "mean = df_bp1.describe()['mean']\n",
    "std = df_bp1.describe()['std']\n",
    "\n",
    "d = cohen_d(mean, mu, std)\n",
    "print(f'Effect Size(d) = {round(d, 2)}')"
   ]
  },
  {
   "cell_type": "markdown",
   "id": "19823d0f",
   "metadata": {},
   "source": [
    "An **Effect Size = 0.1** is considered **small** meaning that the difference between the **sample mean** and the **population mean** is too small or not so **meaningful**!\n",
    "\n",
    "### Confidence Interval\n",
    "The **Confidence Interval** is the range of plausible values for a population parameter. It's computed as:\n",
    "\n",
    "**`Confidence_Interval = Best_Estimate` $\\pm$ `Margin_of_Error`**\n",
    "\n",
    "$CI = \\bar{x} \\pm z_{crit} \\frac{s}{\\sqrt{n}}$\n",
    "\n",
    "We can use **statsmodels's** **`stats.DescrStatsW(data).zconfint_mean()`** to compute the **Confidence Interval** for the population mean of a single variable."
   ]
  },
  {
   "cell_type": "code",
   "execution_count": 15,
   "id": "f7bde891",
   "metadata": {},
   "outputs": [
    {
     "name": "stdout",
     "output_type": "stream",
     "text": [
      "Confidence Interval = ( 127.09,  129.41)\n"
     ]
    }
   ],
   "source": [
    "ci = sm.stats.DescrStatsW(df_bp1).zconfint_mean(alpha = 0.05, alternative = 'two-sided')\n",
    "print(f'Confidence Interval = ({ci[0]: .2f}, {ci[1]: .2f})')"
   ]
  },
  {
   "cell_type": "markdown",
   "id": "72f429f7",
   "metadata": {},
   "source": [
    "#### Interpretation of the results\n",
    "With **95%** confidence, the **mean Systolic Blood Pressure among African-American above 18 years in U.S in 2015-2016** is *estimated* to be between **127.09 mmHg** and **129.41 mmHg**. The center of this interval is our **best estimate = 128.25 mmHg** of the population parameter.\n",
    "\n",
    "This means, if this procedure were repeated over and over, each time computing the **95%** confidence interval estimate, we would expect **95% of those resulting `intervals` to contain the population mean Systolic Blood Pressure**.\n",
    "\n",
    "### Research Question 2\n",
    "Considering non-Hispanic **African-American age 18+** in U.S in 2015-2016, did two measures of systolic blood pressure (SBP) differ significantly?\n",
    "\n",
    "These measures are considered **paired** because they are different measurements (data) of the same variable taken from the same object or group.\n",
    "\n",
    "#### Some data from the Research Question\n",
    "* Population: Non-Hispanic **African-American above 18 years** in U.S in 2015-2016\n",
    "* Null Hypothesis H0: There is no **difference in mean Systolic Blood Pressure** for non-Hispanic **African-American above 18 years** in U.S in 2015-2016 between the two measurements ($H0: \\mu_1 = \\mu_2$) mmHg. \n",
    "* Alternative Hypothesis H1: There is a significant difference in **mean Systolic Blood Pressure** for non-Hispanic **African-American above 18 years** in U.S in 2015-2016 between the two measurements ($H0: \\mu_1 \\ne \\mu_2$) mmHg. \n",
    "\n",
    "Based on the research question we are interested in a descriptive measure of central tendency - the **mean difference in Systolic Blood Pressure** between two measure. \n",
    "The appropriate inferential procedure is the **Two Sample paired t-test for Means**. And since we are not ineterest in whether the **mean difference** is greater than or less than a particular value, this is **non-directional** or **two-tailed test**.\n",
    "\n",
    "We shall consider a **Type I Error or signicance level of 5% (alpha = 0.05)**. This is the **risk of rejecting the null hypothesis when it is true!**.\n",
    "\n",
    "### Let get both measure and make sure both have the same lengths"
   ]
  },
  {
   "cell_type": "code",
   "execution_count": 16,
   "id": "b693fbba",
   "metadata": {},
   "outputs": [],
   "source": [
    "df_bp = df1[(df1['RIDAGEYR'] >= 18) & (df1['RIDRETH1'] == 4)][['BPXSY1', 'BPXSY2']].dropna()"
   ]
  },
  {
   "cell_type": "code",
   "execution_count": 17,
   "id": "55ee42d2",
   "metadata": {},
   "outputs": [],
   "source": [
    "df_bp1 = df_bp['BPXSY1']\n",
    "df_bp2 = df_bp['BPXSY2']"
   ]
  },
  {
   "cell_type": "code",
   "execution_count": 18,
   "id": "6c417c83",
   "metadata": {},
   "outputs": [
    {
     "name": "stdout",
     "output_type": "stream",
     "text": [
      "count    1128.000000\n",
      "mean      128.280142\n",
      "std        20.001231\n",
      "min        84.000000\n",
      "25%       114.000000\n",
      "50%       126.000000\n",
      "75%       138.000000\n",
      "max       236.000000\n",
      "Name: BPXSY1, dtype: float64\n"
     ]
    }
   ],
   "source": [
    "print(df_bp1.describe())"
   ]
  },
  {
   "cell_type": "code",
   "execution_count": 19,
   "id": "1955cb40",
   "metadata": {},
   "outputs": [
    {
     "name": "stdout",
     "output_type": "stream",
     "text": [
      "count    1128.000000\n",
      "mean      127.781915\n",
      "std        19.657366\n",
      "min        86.000000\n",
      "25%       114.000000\n",
      "50%       124.000000\n",
      "75%       138.000000\n",
      "max       238.000000\n",
      "Name: BPXSY2, dtype: float64\n"
     ]
    }
   ],
   "source": [
    "print(df_bp2.describe())"
   ]
  },
  {
   "cell_type": "markdown",
   "id": "8e8940c1",
   "metadata": {},
   "source": [
    "#### Plot both samples and investigate assumptions"
   ]
  },
  {
   "cell_type": "code",
   "execution_count": 20,
   "id": "0ea2cf6c",
   "metadata": {},
   "outputs": [
    {
     "data": {
      "image/png": "[encoded data removed]",
      "text/plain": [
       "<Figure size 1152x720 with 6 Axes>"
      ]
     },
     "metadata": {
      "needs_background": "light"
     },
     "output_type": "display_data"
    }
   ],
   "source": [
    "fig, axes = plt.subplots(2, 3, figsize = (16, 10), sharex = False)\n",
    "sns.histplot(df_bp1, kde = True, ax = axes[0,0])\n",
    "axes[0,0].title.set_text('Historgram of Blacks adults I (18+)')\n",
    "stats.probplot(df_bp1, dist = 'norm', plot = axes[0,1])              \n",
    "axes[0,1].title.set_text('QQ plot of Blacks adults I (18+)')\n",
    "sns.boxplot(x = df_bp1, ax = axes[0,2])\n",
    "axes[0,2].title.set_text('Boxplot of Blacks adults I (18+)')\n",
    "\n",
    "sns.histplot(df_bp2, kde = True, ax = axes[1,0])\n",
    "axes[1,0].title.set_text('Historgram of Blacks adults II (18+)')\n",
    "stats.probplot(df_bp2, dist = 'norm', plot = axes[1,1])              \n",
    "axes[1,1].title.set_text('QQ plot of Blacks adults II (18+)')\n",
    "sns.boxplot(x = df_bp2, ax = axes[1,2])\n",
    "axes[1,2].title.set_text('Boxplot of Blacks adults II (18+)')\n",
    "\n",
    "plt.show()"
   ]
  },
  {
   "cell_type": "code",
   "execution_count": 21,
   "id": "7e87dc44",
   "metadata": {},
   "outputs": [
    {
     "data": {
      "image/png": "[encoded data removed]",
      "text/plain": [
       "<Figure size 432x288 with 1 Axes>"
      ]
     },
     "metadata": {
      "needs_background": "light"
     },
     "output_type": "display_data"
    }
   ],
   "source": [
    "sns.scatterplot(x = df_bp1, y = df_bp2)\n",
    "plt.title('Scatter Plot of paired samples BPXSY1 vs BPXSY2')\n",
    "plt.show()"
   ]
  },
  {
   "cell_type": "code",
   "execution_count": 22,
   "id": "3a4d62a9",
   "metadata": {},
   "outputs": [
    {
     "name": "stdout",
     "output_type": "stream",
     "text": [
      "Mean difference in SBP = 0.498\n"
     ]
    }
   ],
   "source": [
    "print(f'Mean difference in SBP = {round(np.mean(np.array(df_bp1) - np.array(df_bp2)), 3)}')"
   ]
  },
  {
   "cell_type": "markdown",
   "id": "293c810d",
   "metadata": {},
   "source": [
    "**For paired t-test if the degree of freedom is greater than 30 $t_{crit} = Z_{crit}$ at the corresponding confidence level.**"
   ]
  },
  {
   "cell_type": "code",
   "execution_count": 23,
   "id": "6d50ec57",
   "metadata": {},
   "outputs": [
    {
     "name": "stdout",
     "output_type": "stream",
     "text": [
      "test statistic (z-value) = 3.529\n",
      "pvalue = 0.0\n",
      "\n",
      "Significant outcome! Reject the null hypothesis which states that:\n",
      "\"There is no difference in Systolic Blood Pressure for non-Hispanic African-American above 18 years in U.S in 2015-2016 between the two measurements.\"\n",
      "\n"
     ]
    }
   ],
   "source": [
    "H0 = '\"There is no difference in Systolic Blood Pressure for non-Hispanic African-American above 18 years \\\n",
    "in U.S in 2015-2016 between the two measurements.\"'\n",
    "\n",
    "H1 = '\"There is significant difference in Systolic Blood Pressure for non-Hispanic African-American \\\n",
    "above 18 years in U.S in 2015-2016 between the two measurements.\"'\n",
    "\n",
    "test_stat, pvalue = stats.ttest_rel(df_bp1, df_bp2, alternative = 'two-sided')\n",
    "print(f'test statistic (z-value) = {round(test_stat, 3)}')\n",
    "print(f'pvalue = {round(pvalue, 3)}\\n')\n",
    "\n",
    "alpha = 0.05 / 2\n",
    "z_crit = 1.96\n",
    "if abs(test_stat) >= z_crit:\n",
    "    print(f'Significant outcome! Reject the null hypothesis which states that:\\n{H0}\\n')\n",
    "else:\n",
    "    print(f'Not significant outcome! Fail to reject the null hypothesis which states that:\\n{H0}')\n",
    "    print('The results from the observed sample is due to random chance!')"
   ]
  },
  {
   "cell_type": "markdown",
   "id": "3e91e3ab",
   "metadata": {},
   "source": [
    "#### Effect Size using `pooled variance`\n",
    "The **pooled standard deviation is sort of an average of the standard deviation from Group 1 and the standard deviation from Group 2**.\n",
    "\n",
    "$es = \\frac{\\bar{x_1} - \\bar{x_2}}{\\sqrt{\\frac{\\sigma_1^2 + \\sigma_2^2}{2}}}$    where\n",
    "\n",
    "* $\\bar{x_1}$ = is the mean for Group 1\n",
    "* $\\bar{x_2}$ = is the mean for Group 2\n",
    "* $\\sigma_1^2$ = is the variance for Group 1\n",
    "* $\\sigma_2^2$ = is the variance for Group 2"
   ]
  },
  {
   "cell_type": "code",
   "execution_count": 24,
   "id": "269ad71e",
   "metadata": {},
   "outputs": [],
   "source": [
    "def effectSize(m1, m2, std1, std2):\n",
    "    return (m1 - m2) / np.sqrt((std1 **2 + std2 ** 2) / 2)"
   ]
  },
  {
   "cell_type": "code",
   "execution_count": 25,
   "id": "c7cdf71f",
   "metadata": {},
   "outputs": [
    {
     "name": "stdout",
     "output_type": "stream",
     "text": [
      "Effect Size(d) = 0.03\n"
     ]
    }
   ],
   "source": [
    "m1 = df_bp1.describe()['mean']\n",
    "std1 = df_bp1.describe()['std']\n",
    "m2 = df_bp2.describe()['mean']\n",
    "std2 = df_bp2.describe()['std']\n",
    "\n",
    "d = effectSize(m1, m2, std1, std2)\n",
    "print(f'Effect Size(d) = {round(d, 2)}')"
   ]
  },
  {
   "cell_type": "markdown",
   "id": "73da5f58",
   "metadata": {},
   "source": [
    "The **Effect Size = 0.03** is considered very **small** and indicates that both distributions (**BPXSY1** and **BPXSY2**) almost overlap on each other with little or no variance. Although the inferential analysis seems to suggest the difference of **0.498** is statistically significant, it's not **meaningful**!\n",
    "\n",
    "#### Let's compute the Pearson's correlation coefficient between both measures"
   ]
  },
  {
   "cell_type": "code",
   "execution_count": 26,
   "id": "e5148aba",
   "metadata": {},
   "outputs": [
    {
     "name": "stdout",
     "output_type": "stream",
     "text": [
      "Correlation Coefficient = 0.97\n"
     ]
    }
   ],
   "source": [
    "corr_coef, _ = stats.pearsonr(df_bp1, df_bp2)\n",
    "print(f'Correlation Coefficient = {round(corr_coef, 2)}')"
   ]
  },
  {
   "cell_type": "markdown",
   "id": "6b5da49d",
   "metadata": {},
   "source": [
    "The **correlation coefficient = 0.97** is very high and agrees with the **scatter plot** above suggesting that both measures of **Systolic Blood Pressure (BPXSY1 and BPXSY2)** do not differ significantly. We may therefore **fail to reject the null hypothesis** (depending on the application) due to lack of sufficient evidence against it!\n",
    "\n",
    "### Research Question 3 \n",
    "Did **33%** of non-Hispanic **African-Americans age 18+** in the U.S in 2015-2016 have Systolic Blood Pressure greater than 130 mmHg, or was the **population proportions different than one-third?**\n",
    "\n",
    "\n",
    "* **Population**: **African-Americans (ages 18+)** in the U.S in 2015-2016\n",
    "* Parameter of Interest: **Population Proportion (p)** of **African-Americans age 18+** in the U.S in 2015-2016 with Systolic Blood Pressure greater than 130 mmHg.\n",
    "\n",
    "#### State the null (H0) and alternative (H1) hypothesis\n",
    "* Null Hypothesis: **33%** of non-Hispanic **African-Americans age 18+** in the U.S in 2015-2016 have Systolic Blood Pressure greater than 130 mmHg (H0: p = 0.33).\n",
    "* Alternative Hypothesis: The proportion of non-Hispanic **African-Americans age 18+** in the U.S in 2015-2016 with Systolic Blood Pressure greater than 130 mmHg is different from **33%** (H0: p $\\ne$ 0.33).\n",
    "\n",
    "#### Set significant level\n",
    "For a **95%** confidence level the significance level is alpha is **5%** ($\\alpha = 0.05$).\n",
    "\n",
    "### Testing a One Population Proportion\n",
    "\n",
    "$TestStatistic = \\frac{BestEstimate - HypothesizedEstimate}{StandardErrorOfEstimate} = \\frac{\\bar{p} - p_0}{SE}$\n",
    "\n",
    "$SE(\\bar{p}) = \\sqrt{\\frac{p.(1 - p)}{n}} => SE(\\bar{p}) = \\sqrt{\\frac{p_0.(1 - p_0)}{n}}$  since we don't know the population **p** yet we can approximate it using $p_0$.\n",
    "\n",
    "#### Assumptions\n",
    "* **African-Americans (ages 18+)** were sampled randomly \n",
    "* The sample size is large enough for us to assume that the distribution of our sample is **normal** (`n x p0 > 10`) and `n x (1 - p0) > 10`).\n",
    "\n",
    "#### Get sample data to challenge the Null"
   ]
  },
  {
   "cell_type": "code",
   "execution_count": 27,
   "id": "7237b8a0",
   "metadata": {},
   "outputs": [
    {
     "name": "stdout",
     "output_type": "stream",
     "text": [
      "count    1135.000000\n",
      "mean      128.251982\n",
      "std        19.958244\n",
      "min        84.000000\n",
      "25%       114.000000\n",
      "50%       126.000000\n",
      "75%       138.000000\n",
      "max       236.000000\n",
      "Name: BPXSY1, dtype: float64\n"
     ]
    }
   ],
   "source": [
    "df = pd.read_csv('nhanes_2015_2016.csv')\n",
    "df1 = df.copy()\n",
    "df_bp1 = df1[(df1['RIDAGEYR'] >= 18) & (df1['RIDRETH1'] == 4)]['BPXSY1'].dropna()\n",
    "print(df_bp1.describe())"
   ]
  },
  {
   "cell_type": "code",
   "execution_count": 28,
   "id": "f584c0ed",
   "metadata": {},
   "outputs": [
    {
     "name": "stdout",
     "output_type": "stream",
     "text": [
      "Best Estimate (p_hat) = 0.369\n"
     ]
    }
   ],
   "source": [
    "n = df_bp1.describe()['count']                # Number of black respondents with non-missing data\n",
    "p0 = 0.33                                     # the null hypothesis\n",
    "x = np.sum(df_bp1 > 130)                      # Number of black respondents with SBP greater than 130 mmHg\n",
    "p_hat = x / n                                 # sample proportion\n",
    "print(f'Best Estimate (p_hat) = {round(p_hat, 3)}')"
   ]
  },
  {
   "cell_type": "markdown",
   "id": "f3ad724b",
   "metadata": {},
   "source": [
    "#### Check assumptions\n",
    "For a **binomial distribution** if $np \\gt 10$ and $n(1 - p) \\gt 10$ then the distribution can be approximated as **normal** and the **Central Limit Theorem** can be applied to any sample drawn from the population."
   ]
  },
  {
   "cell_type": "code",
   "execution_count": 29,
   "id": "6eac8a9d",
   "metadata": {},
   "outputs": [
    {
     "name": "stdout",
     "output_type": "stream",
     "text": [
      "Assumption is met :)!\n"
     ]
    }
   ],
   "source": [
    "if (n * p0 > 10) & (n * (1 - p0) > 10):\n",
    "    print('Assumption is met :)!')\n",
    "else:\n",
    "    print('Assumption is not met :(!')"
   ]
  },
  {
   "cell_type": "markdown",
   "id": "e03ffc9b",
   "metadata": {},
   "source": [
    "**We will use statsmodels's `stats.proportions_ztest` method to compute the test statistic and p-value**."
   ]
  },
  {
   "cell_type": "code",
   "execution_count": 30,
   "id": "b8ed17a3",
   "metadata": {},
   "outputs": [
    {
     "name": "stdout",
     "output_type": "stream",
     "text": [
      "test Statistic (z-value) =  2.734\n",
      "p-value =  0.0063\n",
      "\n",
      "Significant outcome! Reject the null hypothesis which states that:\n",
      "33% of non-Hispanic African-Americans (ages 18+) in the U.S in 2015-2016 have Systolic Blood Pressure greater than 130 mmHg\n",
      "\n"
     ]
    }
   ],
   "source": [
    "H0 = \"33% of non-Hispanic African-Americans (ages 18+) in the U.S in 2015-2016 have Systolic Blood Pressure greater than 130 mmHg\"\n",
    "H1 = \"The proportion of non-Hispanic African-Americans (age 18+) in the U.S in 2015-2016 having Systolic Blood Pressure greater \\\n",
    "than 130 mmHg is not 33%\"\n",
    "\n",
    "alpha = 0.05 / 2    # for a two-tailed test\n",
    "test_stat, pvalue = sm.stats.proportions_ztest(x, n, p0, alternative = 'two-sided')\n",
    "print(f'test Statistic (z-value) = {test_stat: .3f}\\np-value = {pvalue: .4f}\\n')\n",
    "\n",
    "if pvalue <= alpha:\n",
    "    print(f'Significant outcome! Reject the null hypothesis which states that:\\n{H0}\\n')\n",
    "else:\n",
    "    print(f'Not significant outcome! Fail to reject the null hypothesis which states that:\\n{H0}')\n",
    "    print('The results from the observed sample is due to random chance!')"
   ]
  },
  {
   "cell_type": "markdown",
   "id": "75730313",
   "metadata": {},
   "source": [
    "#### What does this mean?\n",
    "**Rejecting the null hypothesis** means that the observed result (from sample data) of **0.369 or 36.9%** is **not** due to random chance but due to an underlying population characteristics! The **test statistic = 2.734** is positive suggesting that the **proportion** of non-Hispanic African-Americans (ages 18+) in the U.S in 2015-2016 having Systolic Blood Pressure greater than 130 mmHg is **more than 33%**!\n",
    "\n",
    "### Computing Confidence Interval using statsmodels's `stats` package\n",
    "**Confidence Interval for a proportion** is easily handled by statsmodels's **`stats.proportion_confint`** which accepts **2** arguments: **`x = number of respondents who answered YES`**and **`n = Total number of respondents`**."
   ]
  },
  {
   "cell_type": "code",
   "execution_count": 31,
   "id": "837ad634",
   "metadata": {},
   "outputs": [
    {
     "name": "stdout",
     "output_type": "stream",
     "text": [
      "Confidence Interval = ( 0.3411,  0.3972) or ( 34.11%,  39.72%)\n"
     ]
    }
   ],
   "source": [
    "ci = sm.stats.proportion_confint(x, n)\n",
    "print(f'Confidence Interval = ({ci[0]: .4f}, {ci[1]: .4f}) or ({ci[0]*100: .2f}%, {ci[1]*100: .2f}%)')"
   ]
  },
  {
   "cell_type": "markdown",
   "id": "6fffb64e",
   "metadata": {},
   "source": [
    "#### Interpretation of the results\n",
    "With **95%** confidence, the **proportion of African-American above 18 years in U.S in 2015-2016 with Systolic Blood Pressure higher than 130 mmHg** is *estimated* to be between **34.11%** and **39.72%**. The center of this interval is our **best estimate = 36.9%** of the population parameter.\n",
    "\n",
    "**NOTE: The Null value of `33%` is not within the confidence interval**!\n",
    "\n",
    "This means, if this procedure were repeated over and over, each time computing the **95%** confidence interval estimate, we would expect **95% of those resulting `intervals` to contain the true population proportion of African-American above 18 years in U.S in 2015-2016 with Systolic Blood Pressure higher than 130 mmHg and `33%` will not be within this interval!**."
   ]
  },
  {
   "cell_type": "code",
   "execution_count": null,
   "id": "1f1b4983",
   "metadata": {},
   "outputs": [],
   "source": []
  }
 ],
 "metadata": {
  "kernelspec": {
   "display_name": "Python 3 (ipykernel)",
   "language": "python",
   "name": "python3"
  },
  "language_info": {
   "codemirror_mode": {
    "name": "ipython",
    "version": 3
   },
   "file_extension": ".py",
   "mimetype": "text/x-python",
   "name": "python",
   "nbconvert_exporter": "python",
   "pygments_lexer": "ipython3",
   "version": "3.9.12"
  }
 },
 "nbformat": 4,
 "nbformat_minor": 5
}
